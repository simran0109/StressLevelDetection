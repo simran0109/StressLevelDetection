{
 "cells": [
  {
   "cell_type": "markdown",
   "id": "879b87f0",
   "metadata": {},
   "source": [
    "import important libraries for data cleaning,pre-processing(scaling), visualization(for co-relation), model selection\n"
   ]
  },
  {
   "cell_type": "code",
   "execution_count": 1,
   "id": "525e1d26",
   "metadata": {},
   "outputs": [
    {
     "name": "stdout",
     "output_type": "stream",
     "text": [
      "WARNING:tensorflow:From C:\\Users\\SIMRAN\\anaconda3\\lib\\site-packages\\keras\\src\\losses.py:2976: The name tf.losses.sparse_softmax_cross_entropy is deprecated. Please use tf.compat.v1.losses.sparse_softmax_cross_entropy instead.\n",
      "\n"
     ]
    }
   ],
   "source": [
    "import pandas as pd\n",
    "import numpy as np\n",
    "from sklearn.preprocessing import StandardScaler\n",
    "import tensorflow as tf\n",
    "import tensorflow.keras as k\n",
    "from sklearn.model_selection import train_test_split\n",
    "from matplotlib import pyplot as plt\n",
    "import time"
   ]
  },
  {
   "cell_type": "markdown",
   "id": "76ea53ac",
   "metadata": {},
   "source": [
    "# Reading the training dataset"
   ]
  },
  {
   "cell_type": "code",
   "execution_count": 2,
   "id": "3dd5c2c1",
   "metadata": {},
   "outputs": [],
   "source": [
    "df = pd.read_csv('train.csv')"
   ]
  },
  {
   "cell_type": "code",
   "execution_count": 3,
   "id": "6eb28a2f",
   "metadata": {},
   "outputs": [
    {
     "data": {
      "text/html": [
       "<div>\n",
       "<style scoped>\n",
       "    .dataframe tbody tr th:only-of-type {\n",
       "        vertical-align: middle;\n",
       "    }\n",
       "\n",
       "    .dataframe tbody tr th {\n",
       "        vertical-align: top;\n",
       "    }\n",
       "\n",
       "    .dataframe thead th {\n",
       "        text-align: right;\n",
       "    }\n",
       "</style>\n",
       "<table border=\"1\" class=\"dataframe\">\n",
       "  <thead>\n",
       "    <tr style=\"text-align: right;\">\n",
       "      <th></th>\n",
       "      <th>MEAN_RR</th>\n",
       "      <th>MEDIAN_RR</th>\n",
       "      <th>SDRR</th>\n",
       "      <th>RMSSD</th>\n",
       "      <th>SDSD</th>\n",
       "      <th>SDRR_RMSSD</th>\n",
       "      <th>HR</th>\n",
       "      <th>pNN25</th>\n",
       "      <th>pNN50</th>\n",
       "      <th>SD1</th>\n",
       "      <th>...</th>\n",
       "      <th>HF</th>\n",
       "      <th>HF_PCT</th>\n",
       "      <th>HF_NU</th>\n",
       "      <th>TP</th>\n",
       "      <th>LF_HF</th>\n",
       "      <th>HF_LF</th>\n",
       "      <th>sampen</th>\n",
       "      <th>higuci</th>\n",
       "      <th>datasetId</th>\n",
       "      <th>condition</th>\n",
       "    </tr>\n",
       "  </thead>\n",
       "  <tbody>\n",
       "    <tr>\n",
       "      <th>0</th>\n",
       "      <td>885.157845</td>\n",
       "      <td>853.763730</td>\n",
       "      <td>140.972741</td>\n",
       "      <td>15.554505</td>\n",
       "      <td>15.553371</td>\n",
       "      <td>9.063146</td>\n",
       "      <td>69.499952</td>\n",
       "      <td>11.133333</td>\n",
       "      <td>0.533333</td>\n",
       "      <td>11.001565</td>\n",
       "      <td>...</td>\n",
       "      <td>15.522602</td>\n",
       "      <td>0.421047</td>\n",
       "      <td>1.514737</td>\n",
       "      <td>3686.666157</td>\n",
       "      <td>65.018055</td>\n",
       "      <td>0.015380</td>\n",
       "      <td>2.139754</td>\n",
       "      <td>1.163485</td>\n",
       "      <td>2</td>\n",
       "      <td>0</td>\n",
       "    </tr>\n",
       "    <tr>\n",
       "      <th>1</th>\n",
       "      <td>939.425371</td>\n",
       "      <td>948.357865</td>\n",
       "      <td>81.317742</td>\n",
       "      <td>12.964439</td>\n",
       "      <td>12.964195</td>\n",
       "      <td>6.272369</td>\n",
       "      <td>64.363150</td>\n",
       "      <td>5.600000</td>\n",
       "      <td>0.000000</td>\n",
       "      <td>9.170129</td>\n",
       "      <td>...</td>\n",
       "      <td>2.108525</td>\n",
       "      <td>0.070133</td>\n",
       "      <td>0.304603</td>\n",
       "      <td>3006.487251</td>\n",
       "      <td>327.296635</td>\n",
       "      <td>0.003055</td>\n",
       "      <td>2.174499</td>\n",
       "      <td>1.084711</td>\n",
       "      <td>2</td>\n",
       "      <td>1</td>\n",
       "    </tr>\n",
       "    <tr>\n",
       "      <th>2</th>\n",
       "      <td>898.186047</td>\n",
       "      <td>907.006860</td>\n",
       "      <td>84.497236</td>\n",
       "      <td>16.305279</td>\n",
       "      <td>16.305274</td>\n",
       "      <td>5.182201</td>\n",
       "      <td>67.450066</td>\n",
       "      <td>13.066667</td>\n",
       "      <td>0.200000</td>\n",
       "      <td>11.533417</td>\n",
       "      <td>...</td>\n",
       "      <td>13.769729</td>\n",
       "      <td>0.512671</td>\n",
       "      <td>1.049528</td>\n",
       "      <td>2685.879461</td>\n",
       "      <td>94.280910</td>\n",
       "      <td>0.010607</td>\n",
       "      <td>2.135350</td>\n",
       "      <td>1.176315</td>\n",
       "      <td>2</td>\n",
       "      <td>1</td>\n",
       "    </tr>\n",
       "    <tr>\n",
       "      <th>3</th>\n",
       "      <td>881.757864</td>\n",
       "      <td>893.460030</td>\n",
       "      <td>90.370537</td>\n",
       "      <td>15.720468</td>\n",
       "      <td>15.720068</td>\n",
       "      <td>5.748591</td>\n",
       "      <td>68.809562</td>\n",
       "      <td>11.800000</td>\n",
       "      <td>0.133333</td>\n",
       "      <td>11.119476</td>\n",
       "      <td>...</td>\n",
       "      <td>18.181913</td>\n",
       "      <td>0.529387</td>\n",
       "      <td>1.775294</td>\n",
       "      <td>3434.520980</td>\n",
       "      <td>55.328701</td>\n",
       "      <td>0.018074</td>\n",
       "      <td>2.178341</td>\n",
       "      <td>1.179688</td>\n",
       "      <td>2</td>\n",
       "      <td>0</td>\n",
       "    </tr>\n",
       "    <tr>\n",
       "      <th>4</th>\n",
       "      <td>809.625331</td>\n",
       "      <td>811.184865</td>\n",
       "      <td>62.766242</td>\n",
       "      <td>19.213819</td>\n",
       "      <td>19.213657</td>\n",
       "      <td>3.266724</td>\n",
       "      <td>74.565728</td>\n",
       "      <td>20.200000</td>\n",
       "      <td>0.200000</td>\n",
       "      <td>13.590641</td>\n",
       "      <td>...</td>\n",
       "      <td>48.215822</td>\n",
       "      <td>1.839473</td>\n",
       "      <td>3.279993</td>\n",
       "      <td>2621.175204</td>\n",
       "      <td>29.487873</td>\n",
       "      <td>0.033912</td>\n",
       "      <td>2.221121</td>\n",
       "      <td>1.249612</td>\n",
       "      <td>2</td>\n",
       "      <td>0</td>\n",
       "    </tr>\n",
       "  </tbody>\n",
       "</table>\n",
       "<p>5 rows × 36 columns</p>\n",
       "</div>"
      ],
      "text/plain": [
       "      MEAN_RR   MEDIAN_RR        SDRR      RMSSD       SDSD  SDRR_RMSSD  \\\n",
       "0  885.157845  853.763730  140.972741  15.554505  15.553371    9.063146   \n",
       "1  939.425371  948.357865   81.317742  12.964439  12.964195    6.272369   \n",
       "2  898.186047  907.006860   84.497236  16.305279  16.305274    5.182201   \n",
       "3  881.757864  893.460030   90.370537  15.720468  15.720068    5.748591   \n",
       "4  809.625331  811.184865   62.766242  19.213819  19.213657    3.266724   \n",
       "\n",
       "          HR      pNN25     pNN50        SD1  ...         HF    HF_PCT  \\\n",
       "0  69.499952  11.133333  0.533333  11.001565  ...  15.522602  0.421047   \n",
       "1  64.363150   5.600000  0.000000   9.170129  ...   2.108525  0.070133   \n",
       "2  67.450066  13.066667  0.200000  11.533417  ...  13.769729  0.512671   \n",
       "3  68.809562  11.800000  0.133333  11.119476  ...  18.181913  0.529387   \n",
       "4  74.565728  20.200000  0.200000  13.590641  ...  48.215822  1.839473   \n",
       "\n",
       "      HF_NU           TP       LF_HF     HF_LF    sampen    higuci  datasetId  \\\n",
       "0  1.514737  3686.666157   65.018055  0.015380  2.139754  1.163485          2   \n",
       "1  0.304603  3006.487251  327.296635  0.003055  2.174499  1.084711          2   \n",
       "2  1.049528  2685.879461   94.280910  0.010607  2.135350  1.176315          2   \n",
       "3  1.775294  3434.520980   55.328701  0.018074  2.178341  1.179688          2   \n",
       "4  3.279993  2621.175204   29.487873  0.033912  2.221121  1.249612          2   \n",
       "\n",
       "   condition  \n",
       "0          0  \n",
       "1          1  \n",
       "2          1  \n",
       "3          0  \n",
       "4          0  \n",
       "\n",
       "[5 rows x 36 columns]"
      ]
     },
     "execution_count": 3,
     "metadata": {},
     "output_type": "execute_result"
    }
   ],
   "source": [
    "df.head()"
   ]
  },
  {
   "cell_type": "markdown",
   "id": "f7d8f021",
   "metadata": {},
   "source": [
    "condition 0: No stress; condition 1: Stress"
   ]
  },
  {
   "cell_type": "markdown",
   "id": "e8755e4f",
   "metadata": {},
   "source": [
    "Selecting label and features from dataset"
   ]
  },
  {
   "cell_type": "code",
   "execution_count": 4,
   "id": "77c72ead",
   "metadata": {},
   "outputs": [],
   "source": [
    "label = ['condition'] \n",
    "features = ['MEAN_RR','RMSSD','pNN25','pNN50','LF','HF','LF_HF']"
   ]
  },
  {
   "cell_type": "markdown",
   "id": "970d1159",
   "metadata": {},
   "source": [
    "Scaling the features, ensuring that all features are on the same scale, which is crucial for optimal model performance"
   ]
  },
  {
   "cell_type": "code",
   "execution_count": 5,
   "id": "0ade4e0f",
   "metadata": {},
   "outputs": [],
   "source": [
    "scaler = StandardScaler()\n",
    "scaler.fit(df[features])\n",
    "df[features] = scaler.transform(df[features])\n"
   ]
  },
  {
   "cell_type": "code",
   "execution_count": 6,
   "id": "3708b24d",
   "metadata": {},
   "outputs": [],
   "source": [
    "X = df[features].values\n",
    "y = df[label].values"
   ]
  },
  {
   "cell_type": "code",
   "execution_count": 7,
   "id": "351c2feb",
   "metadata": {},
   "outputs": [
    {
     "data": {
      "text/plain": [
       "array([[0],\n",
       "       [1],\n",
       "       [1],\n",
       "       ...,\n",
       "       [0],\n",
       "       [0],\n",
       "       [0]], dtype=int64)"
      ]
     },
     "execution_count": 7,
     "metadata": {},
     "output_type": "execute_result"
    }
   ],
   "source": [
    "y"
   ]
  },
  {
   "cell_type": "markdown",
   "id": "23e9ee0d",
   "metadata": {},
   "source": [
    "Spliting the dataset for training and testing"
   ]
  },
  {
   "cell_type": "code",
   "execution_count": 8,
   "id": "9c3158a1",
   "metadata": {},
   "outputs": [],
   "source": [
    "X_train,X_test,y_train,y_test = train_test_split(X,y,test_size = 0.3,random_state = 40)"
   ]
  },
  {
   "cell_type": "code",
   "execution_count": 9,
   "id": "02a43286",
   "metadata": {},
   "outputs": [
    {
     "name": "stdout",
     "output_type": "stream",
     "text": [
      "(258502, 7) (258502, 1) (110787, 7) (110787, 1)\n"
     ]
    }
   ],
   "source": [
    "print(X_train.shape,y_train.shape,X_test.shape,y_test.shape)"
   ]
  },
  {
   "cell_type": "code",
   "execution_count": 10,
   "id": "fe89baaf",
   "metadata": {},
   "outputs": [],
   "source": [
    "y_train = k.utils.to_categorical(y_train) \n",
    "y_test = k.utils.to_categorical(y_test)\n",
    "#which transforms the labels into a categorical format for classification"
   ]
  },
  {
   "cell_type": "code",
   "execution_count": 11,
   "id": "1cc56363",
   "metadata": {},
   "outputs": [
    {
     "data": {
      "text/plain": [
       "array([[0., 1., 0.],\n",
       "       [0., 0., 1.],\n",
       "       [1., 0., 0.],\n",
       "       ...,\n",
       "       [1., 0., 0.],\n",
       "       [1., 0., 0.],\n",
       "       [0., 1., 0.]], dtype=float32)"
      ]
     },
     "execution_count": 11,
     "metadata": {},
     "output_type": "execute_result"
    }
   ],
   "source": [
    "y_train"
   ]
  },
  {
   "cell_type": "markdown",
   "id": "31a27747",
   "metadata": {},
   "source": [
    "# Creating Model"
   ]
  },
  {
   "cell_type": "code",
   "execution_count": 12,
   "id": "b8b3fbee",
   "metadata": {},
   "outputs": [],
   "source": [
    "from tensorflow.keras import Sequential\n",
    "from tensorflow.keras.layers import Dense"
   ]
  },
  {
   "cell_type": "code",
   "execution_count": 13,
   "id": "213cbe34",
   "metadata": {},
   "outputs": [
    {
     "name": "stdout",
     "output_type": "stream",
     "text": [
      "WARNING:tensorflow:From C:\\Users\\SIMRAN\\anaconda3\\lib\\site-packages\\keras\\src\\backend.py:873: The name tf.get_default_graph is deprecated. Please use tf.compat.v1.get_default_graph instead.\n",
      "\n"
     ]
    }
   ],
   "source": [
    "model = Sequential()\n",
    "model.add(Dense(50, activation='relu',kernel_initializer = 'he_normal',input_shape=(X_train.shape[1],)))\n",
    "model.add(Dense(20, activation='relu',kernel_initializer = 'he_normal'))\n",
    "model.add(Dense(10, activation='relu',kernel_initializer = 'he_normal'))\n",
    "model.add(Dense(3, activation='softmax'))"
   ]
  },
  {
   "cell_type": "code",
   "execution_count": 14,
   "id": "5c69da17",
   "metadata": {},
   "outputs": [
    {
     "name": "stdout",
     "output_type": "stream",
     "text": [
      "WARNING:tensorflow:From C:\\Users\\SIMRAN\\anaconda3\\lib\\site-packages\\keras\\src\\optimizers\\__init__.py:309: The name tf.train.Optimizer is deprecated. Please use tf.compat.v1.train.Optimizer instead.\n",
      "\n"
     ]
    }
   ],
   "source": [
    "model.compile(optimizer='adam', loss='categorical_crossentropy',metrics=['accuracy'])"
   ]
  },
  {
   "cell_type": "code",
   "execution_count": 15,
   "id": "070237ed",
   "metadata": {
    "scrolled": false
   },
   "outputs": [
    {
     "name": "stdout",
     "output_type": "stream",
     "text": [
      "Epoch 1/50\n",
      "WARNING:tensorflow:From C:\\Users\\SIMRAN\\anaconda3\\lib\\site-packages\\keras\\src\\utils\\tf_utils.py:492: The name tf.ragged.RaggedTensorValue is deprecated. Please use tf.compat.v1.ragged.RaggedTensorValue instead.\n",
      "\n",
      "WARNING:tensorflow:From C:\\Users\\SIMRAN\\anaconda3\\lib\\site-packages\\keras\\src\\engine\\base_layer_utils.py:384: The name tf.executing_eagerly_outside_functions is deprecated. Please use tf.compat.v1.executing_eagerly_outside_functions instead.\n",
      "\n",
      "253/253 [==============================] - 3s 6ms/step - loss: 0.8276 - accuracy: 0.6327 - val_loss: 0.7018 - val_accuracy: 0.7042\n",
      "Epoch 2/50\n",
      "253/253 [==============================] - 1s 4ms/step - loss: 0.6325 - accuracy: 0.7329 - val_loss: 0.5767 - val_accuracy: 0.7545\n",
      "Epoch 3/50\n",
      "253/253 [==============================] - 1s 5ms/step - loss: 0.5340 - accuracy: 0.7800 - val_loss: 0.5041 - val_accuracy: 0.7933\n",
      "Epoch 4/50\n",
      "253/253 [==============================] - 1s 5ms/step - loss: 0.4708 - accuracy: 0.8100 - val_loss: 0.4510 - val_accuracy: 0.8178\n",
      "Epoch 5/50\n",
      "253/253 [==============================] - 1s 5ms/step - loss: 0.4265 - accuracy: 0.8321 - val_loss: 0.4126 - val_accuracy: 0.8373\n",
      "Epoch 6/50\n",
      "253/253 [==============================] - 1s 5ms/step - loss: 0.3898 - accuracy: 0.8479 - val_loss: 0.3779 - val_accuracy: 0.8519\n",
      "Epoch 7/50\n",
      "253/253 [==============================] - 1s 5ms/step - loss: 0.3592 - accuracy: 0.8623 - val_loss: 0.3491 - val_accuracy: 0.8677\n",
      "Epoch 8/50\n",
      "253/253 [==============================] - 1s 5ms/step - loss: 0.3353 - accuracy: 0.8733 - val_loss: 0.3279 - val_accuracy: 0.8777\n",
      "Epoch 9/50\n",
      "253/253 [==============================] - 1s 5ms/step - loss: 0.3150 - accuracy: 0.8817 - val_loss: 0.3109 - val_accuracy: 0.8817\n",
      "Epoch 10/50\n",
      "253/253 [==============================] - 1s 5ms/step - loss: 0.2968 - accuracy: 0.8885 - val_loss: 0.2907 - val_accuracy: 0.8896\n",
      "Epoch 11/50\n",
      "253/253 [==============================] - 2s 6ms/step - loss: 0.2812 - accuracy: 0.8953 - val_loss: 0.2762 - val_accuracy: 0.8953\n",
      "Epoch 12/50\n",
      "253/253 [==============================] - 1s 6ms/step - loss: 0.2674 - accuracy: 0.9001 - val_loss: 0.2655 - val_accuracy: 0.9013\n",
      "Epoch 13/50\n",
      "253/253 [==============================] - 1s 5ms/step - loss: 0.2565 - accuracy: 0.9045 - val_loss: 0.2526 - val_accuracy: 0.9068\n",
      "Epoch 14/50\n",
      "253/253 [==============================] - 1s 5ms/step - loss: 0.2454 - accuracy: 0.9087 - val_loss: 0.2478 - val_accuracy: 0.9074\n",
      "Epoch 15/50\n",
      "253/253 [==============================] - 1s 5ms/step - loss: 0.2354 - accuracy: 0.9119 - val_loss: 0.2334 - val_accuracy: 0.9107\n",
      "Epoch 16/50\n",
      "253/253 [==============================] - 1s 5ms/step - loss: 0.2266 - accuracy: 0.9154 - val_loss: 0.2245 - val_accuracy: 0.9156\n",
      "Epoch 17/50\n",
      "253/253 [==============================] - 1s 5ms/step - loss: 0.2193 - accuracy: 0.9179 - val_loss: 0.2177 - val_accuracy: 0.9180\n",
      "Epoch 18/50\n",
      "253/253 [==============================] - 1s 5ms/step - loss: 0.2118 - accuracy: 0.9209 - val_loss: 0.2109 - val_accuracy: 0.9201\n",
      "Epoch 19/50\n",
      "253/253 [==============================] - 1s 5ms/step - loss: 0.2059 - accuracy: 0.9228 - val_loss: 0.2079 - val_accuracy: 0.9238\n",
      "Epoch 20/50\n",
      "253/253 [==============================] - 1s 6ms/step - loss: 0.2007 - accuracy: 0.9252 - val_loss: 0.2007 - val_accuracy: 0.9261\n",
      "Epoch 21/50\n",
      "253/253 [==============================] - 1s 5ms/step - loss: 0.1954 - accuracy: 0.9274 - val_loss: 0.1959 - val_accuracy: 0.9266\n",
      "Epoch 22/50\n",
      "253/253 [==============================] - 1s 5ms/step - loss: 0.1902 - accuracy: 0.9302 - val_loss: 0.1952 - val_accuracy: 0.9259\n",
      "Epoch 23/50\n",
      "253/253 [==============================] - 1s 6ms/step - loss: 0.1850 - accuracy: 0.9322 - val_loss: 0.1853 - val_accuracy: 0.9322\n",
      "Epoch 24/50\n",
      "253/253 [==============================] - 1s 5ms/step - loss: 0.1814 - accuracy: 0.9334 - val_loss: 0.1876 - val_accuracy: 0.9285\n",
      "Epoch 25/50\n",
      "253/253 [==============================] - 1s 5ms/step - loss: 0.1770 - accuracy: 0.9357 - val_loss: 0.1763 - val_accuracy: 0.9363\n",
      "Epoch 26/50\n",
      "253/253 [==============================] - 1s 5ms/step - loss: 0.1727 - accuracy: 0.9372 - val_loss: 0.1758 - val_accuracy: 0.9364\n",
      "Epoch 27/50\n",
      "253/253 [==============================] - 1s 5ms/step - loss: 0.1696 - accuracy: 0.9384 - val_loss: 0.1698 - val_accuracy: 0.9383\n",
      "Epoch 28/50\n",
      "253/253 [==============================] - 1s 5ms/step - loss: 0.1650 - accuracy: 0.9402 - val_loss: 0.1670 - val_accuracy: 0.9401\n",
      "Epoch 29/50\n",
      "253/253 [==============================] - 1s 6ms/step - loss: 0.1627 - accuracy: 0.9413 - val_loss: 0.1634 - val_accuracy: 0.9396\n",
      "Epoch 30/50\n",
      "253/253 [==============================] - 1s 5ms/step - loss: 0.1591 - accuracy: 0.9422 - val_loss: 0.1606 - val_accuracy: 0.9416\n",
      "Epoch 31/50\n",
      "253/253 [==============================] - 1s 5ms/step - loss: 0.1560 - accuracy: 0.9432 - val_loss: 0.1628 - val_accuracy: 0.9405\n",
      "Epoch 32/50\n",
      "253/253 [==============================] - 1s 5ms/step - loss: 0.1534 - accuracy: 0.9442 - val_loss: 0.1536 - val_accuracy: 0.9457\n",
      "Epoch 33/50\n",
      "253/253 [==============================] - 1s 6ms/step - loss: 0.1503 - accuracy: 0.9454 - val_loss: 0.1546 - val_accuracy: 0.9439\n",
      "Epoch 34/50\n",
      "253/253 [==============================] - 1s 6ms/step - loss: 0.1487 - accuracy: 0.9460 - val_loss: 0.1499 - val_accuracy: 0.9455\n",
      "Epoch 35/50\n",
      "253/253 [==============================] - 1s 5ms/step - loss: 0.1451 - accuracy: 0.9472 - val_loss: 0.1481 - val_accuracy: 0.9458\n",
      "Epoch 36/50\n",
      "253/253 [==============================] - 1s 5ms/step - loss: 0.1430 - accuracy: 0.9480 - val_loss: 0.1449 - val_accuracy: 0.9479\n",
      "Epoch 37/50\n",
      "253/253 [==============================] - 1s 5ms/step - loss: 0.1404 - accuracy: 0.9497 - val_loss: 0.1489 - val_accuracy: 0.9449\n",
      "Epoch 38/50\n",
      "253/253 [==============================] - 1s 5ms/step - loss: 0.1387 - accuracy: 0.9496 - val_loss: 0.1441 - val_accuracy: 0.9470\n",
      "Epoch 39/50\n",
      "253/253 [==============================] - 1s 5ms/step - loss: 0.1366 - accuracy: 0.9502 - val_loss: 0.1367 - val_accuracy: 0.9509\n",
      "Epoch 40/50\n",
      "253/253 [==============================] - 1s 5ms/step - loss: 0.1340 - accuracy: 0.9517 - val_loss: 0.1377 - val_accuracy: 0.9496\n",
      "Epoch 41/50\n",
      "253/253 [==============================] - 2s 6ms/step - loss: 0.1333 - accuracy: 0.9513 - val_loss: 0.1350 - val_accuracy: 0.9498\n",
      "Epoch 42/50\n",
      "253/253 [==============================] - 1s 5ms/step - loss: 0.1302 - accuracy: 0.9529 - val_loss: 0.1290 - val_accuracy: 0.9534\n",
      "Epoch 43/50\n",
      "253/253 [==============================] - 1s 5ms/step - loss: 0.1286 - accuracy: 0.9530 - val_loss: 0.1334 - val_accuracy: 0.9517\n",
      "Epoch 44/50\n",
      "253/253 [==============================] - 1s 5ms/step - loss: 0.1276 - accuracy: 0.9537 - val_loss: 0.1286 - val_accuracy: 0.9536\n",
      "Epoch 45/50\n",
      "253/253 [==============================] - 1s 6ms/step - loss: 0.1250 - accuracy: 0.9550 - val_loss: 0.1301 - val_accuracy: 0.9529\n",
      "Epoch 46/50\n",
      "253/253 [==============================] - 1s 6ms/step - loss: 0.1237 - accuracy: 0.9556 - val_loss: 0.1234 - val_accuracy: 0.9549\n",
      "Epoch 47/50\n",
      "253/253 [==============================] - 1s 5ms/step - loss: 0.1216 - accuracy: 0.9557 - val_loss: 0.1250 - val_accuracy: 0.9545\n",
      "Epoch 48/50\n",
      "253/253 [==============================] - 1s 5ms/step - loss: 0.1202 - accuracy: 0.9566 - val_loss: 0.1262 - val_accuracy: 0.9542\n",
      "Epoch 49/50\n",
      "253/253 [==============================] - 1s 5ms/step - loss: 0.1185 - accuracy: 0.9574 - val_loss: 0.1246 - val_accuracy: 0.9541\n",
      "Epoch 50/50\n",
      "253/253 [==============================] - 1s 5ms/step - loss: 0.1176 - accuracy: 0.9577 - val_loss: 0.1287 - val_accuracy: 0.9523\n"
     ]
    }
   ],
   "source": [
    "history = model.fit(X_train,y_train, validation_data = (X_test,y_test), epochs = 50, batch_size = 1024, verbose =1)"
   ]
  },
  {
   "cell_type": "markdown",
   "id": "1cc33a15",
   "metadata": {},
   "source": [
    "We have an accuracy of 95.77% and  validation accuracy of 95.23%"
   ]
  },
  {
   "cell_type": "code",
   "execution_count": 16,
   "id": "5fba454c",
   "metadata": {},
   "outputs": [
    {
     "data": {
      "text/plain": [
       "<Axes: >"
      ]
     },
     "execution_count": 16,
     "metadata": {},
     "output_type": "execute_result"
    },
    {
     "data": {
      "image/png": "[encoded data removed]",
      "text/plain": [
       "<Figure size 1000x700 with 1 Axes>"
      ]
     },
     "metadata": {},
     "output_type": "display_data"
    }
   ],
   "source": [
    "pd.DataFrame(history.history).plot(figsize=(10,7))"
   ]
  },
  {
   "cell_type": "markdown",
   "id": "34226b48",
   "metadata": {},
   "source": [
    "we can see above there is a steady decrease in the valiadtion loss and training loss, with no signs of overfitting"
   ]
  },
  {
   "cell_type": "markdown",
   "id": "3490dfa7",
   "metadata": {},
   "source": [
    "# Testing on testset"
   ]
  },
  {
   "cell_type": "code",
   "execution_count": 17,
   "id": "bb197807",
   "metadata": {},
   "outputs": [],
   "source": [
    "df_test = pd.read_csv('test.csv')"
   ]
  },
  {
   "cell_type": "code",
   "execution_count": 18,
   "id": "7a64cc12",
   "metadata": {},
   "outputs": [
    {
     "data": {
      "text/html": [
       "<div>\n",
       "<style scoped>\n",
       "    .dataframe tbody tr th:only-of-type {\n",
       "        vertical-align: middle;\n",
       "    }\n",
       "\n",
       "    .dataframe tbody tr th {\n",
       "        vertical-align: top;\n",
       "    }\n",
       "\n",
       "    .dataframe thead th {\n",
       "        text-align: right;\n",
       "    }\n",
       "</style>\n",
       "<table border=\"1\" class=\"dataframe\">\n",
       "  <thead>\n",
       "    <tr style=\"text-align: right;\">\n",
       "      <th></th>\n",
       "      <th>MEAN_RR</th>\n",
       "      <th>RMSSD</th>\n",
       "      <th>pNN25</th>\n",
       "      <th>pNN50</th>\n",
       "      <th>LF</th>\n",
       "      <th>HF</th>\n",
       "      <th>LF_HF</th>\n",
       "    </tr>\n",
       "  </thead>\n",
       "  <tbody>\n",
       "    <tr>\n",
       "      <th>0</th>\n",
       "      <td>-1.001159</td>\n",
       "      <td>-0.634891</td>\n",
       "      <td>-0.598837</td>\n",
       "      <td>-0.874583</td>\n",
       "      <td>-0.575814</td>\n",
       "      <td>0.602911</td>\n",
       "      <td>-0.295775</td>\n",
       "    </tr>\n",
       "    <tr>\n",
       "      <th>1</th>\n",
       "      <td>-0.024971</td>\n",
       "      <td>1.048686</td>\n",
       "      <td>1.361573</td>\n",
       "      <td>-0.672601</td>\n",
       "      <td>1.080403</td>\n",
       "      <td>-0.280746</td>\n",
       "      <td>-0.157544</td>\n",
       "    </tr>\n",
       "    <tr>\n",
       "      <th>2</th>\n",
       "      <td>0.897836</td>\n",
       "      <td>1.544671</td>\n",
       "      <td>1.743894</td>\n",
       "      <td>0.943254</td>\n",
       "      <td>1.965161</td>\n",
       "      <td>-0.511482</td>\n",
       "      <td>0.037412</td>\n",
       "    </tr>\n",
       "    <tr>\n",
       "      <th>3</th>\n",
       "      <td>-0.175046</td>\n",
       "      <td>-0.777935</td>\n",
       "      <td>-0.623241</td>\n",
       "      <td>-0.335965</td>\n",
       "      <td>-0.767443</td>\n",
       "      <td>-0.477196</td>\n",
       "      <td>-0.241658</td>\n",
       "    </tr>\n",
       "    <tr>\n",
       "      <th>4</th>\n",
       "      <td>-0.721825</td>\n",
       "      <td>-0.393071</td>\n",
       "      <td>-0.476820</td>\n",
       "      <td>-0.201310</td>\n",
       "      <td>-0.735541</td>\n",
       "      <td>-0.089133</td>\n",
       "      <td>-0.280126</td>\n",
       "    </tr>\n",
       "  </tbody>\n",
       "</table>\n",
       "</div>"
      ],
      "text/plain": [
       "    MEAN_RR     RMSSD     pNN25     pNN50        LF        HF     LF_HF\n",
       "0 -1.001159 -0.634891 -0.598837 -0.874583 -0.575814  0.602911 -0.295775\n",
       "1 -0.024971  1.048686  1.361573 -0.672601  1.080403 -0.280746 -0.157544\n",
       "2  0.897836  1.544671  1.743894  0.943254  1.965161 -0.511482  0.037412\n",
       "3 -0.175046 -0.777935 -0.623241 -0.335965 -0.767443 -0.477196 -0.241658\n",
       "4 -0.721825 -0.393071 -0.476820 -0.201310 -0.735541 -0.089133 -0.280126"
      ]
     },
     "execution_count": 18,
     "metadata": {},
     "output_type": "execute_result"
    }
   ],
   "source": [
    "df_test[features] = scaler.transform(df_test[features])\n",
    "df_test[features].head()"
   ]
  },
  {
   "cell_type": "code",
   "execution_count": 19,
   "id": "a2d737e0",
   "metadata": {},
   "outputs": [],
   "source": [
    "X = df_test[features].values\n",
    "y = df_test[label].values"
   ]
  },
  {
   "cell_type": "code",
   "execution_count": 20,
   "id": "5527f007",
   "metadata": {},
   "outputs": [],
   "source": [
    "y = k.utils.to_categorical(y)"
   ]
  },
  {
   "cell_type": "code",
   "execution_count": 21,
   "id": "51a2c0ec",
   "metadata": {},
   "outputs": [
    {
     "name": "stdout",
     "output_type": "stream",
     "text": [
      "1283/1283 [==============================] - 2s 2ms/step - loss: 0.1251 - accuracy: 0.9534\n"
     ]
    }
   ],
   "source": [
    "loss,acc = model.evaluate(X,y,verbose=1)"
   ]
  },
  {
   "cell_type": "markdown",
   "id": "4c72f5f8",
   "metadata": {},
   "source": [
    "We cans see the accuracy is 95.34%"
   ]
  },
  {
   "cell_type": "markdown",
   "id": "46c89a5c",
   "metadata": {},
   "source": [
    "# Final Pipeline for prediction"
   ]
  },
  {
   "cell_type": "code",
   "execution_count": 22,
   "id": "ee2bde54",
   "metadata": {},
   "outputs": [],
   "source": [
    "data = pd.read_csv('test.csv')"
   ]
  },
  {
   "cell_type": "code",
   "execution_count": 24,
   "id": "16798095",
   "metadata": {},
   "outputs": [
    {
     "name": "stdout",
     "output_type": "stream",
     "text": [
      "[[-1.53713909  0.87542554  0.56439365  1.21256363  0.66568458  2.7555339\n",
      "  -0.29899026]]\n"
     ]
    },
    {
     "name": "stderr",
     "output_type": "stream",
     "text": [
      "C:\\Users\\SIMRAN\\anaconda3\\lib\\site-packages\\sklearn\\base.py:420: UserWarning: X does not have valid feature names, but StandardScaler was fitted with feature names\n",
      "  warnings.warn(\n"
     ]
    }
   ],
   "source": [
    "t = scaler.transform(data[features].iloc[5201].values.reshape(1,-1))\n",
    "print(t)"
   ]
  },
  {
   "cell_type": "code",
   "execution_count": 25,
   "id": "e31e2060",
   "metadata": {},
   "outputs": [
    {
     "name": "stdout",
     "output_type": "stream",
     "text": [
      "1/1 [==============================] - 0s 100ms/step\n"
     ]
    }
   ],
   "source": [
    "y_pred = model.predict(t)"
   ]
  },
  {
   "cell_type": "code",
   "execution_count": 26,
   "id": "0394efb9",
   "metadata": {},
   "outputs": [
    {
     "name": "stdout",
     "output_type": "stream",
     "text": [
      "1\n",
      "condition    1\n",
      "Name: 5201, dtype: int64\n"
     ]
    }
   ],
   "source": [
    "print(np.argmax(y_pred[0]))\n",
    "print(data[label].iloc[5201])"
   ]
  },
  {
   "cell_type": "markdown",
   "id": "ae049f6b",
   "metadata": {},
   "source": [
    "Predicted Condition is 1 says : Stress"
   ]
  },
  {
   "cell_type": "markdown",
   "id": "124ce834",
   "metadata": {},
   "source": [
    "Lets check for other values"
   ]
  },
  {
   "cell_type": "code",
   "execution_count": 27,
   "id": "fe471f5a",
   "metadata": {},
   "outputs": [
    {
     "name": "stdout",
     "output_type": "stream",
     "text": [
      "[[-0.7699341   0.25391942  0.11699709  0.60661783  0.54497884  0.50787441\n",
      "  -0.26537627]]\n"
     ]
    },
    {
     "name": "stderr",
     "output_type": "stream",
     "text": [
      "C:\\Users\\SIMRAN\\anaconda3\\lib\\site-packages\\sklearn\\base.py:420: UserWarning: X does not have valid feature names, but StandardScaler was fitted with feature names\n",
      "  warnings.warn(\n"
     ]
    }
   ],
   "source": [
    "t = scaler.transform(data[features].iloc[5545].values.reshape(1,-1))\n",
    "print(t)"
   ]
  },
  {
   "cell_type": "code",
   "execution_count": 28,
   "id": "0945b1ae",
   "metadata": {},
   "outputs": [
    {
     "name": "stdout",
     "output_type": "stream",
     "text": [
      "1/1 [==============================] - 0s 22ms/step\n"
     ]
    }
   ],
   "source": [
    "y_pred = model.predict(t)"
   ]
  },
  {
   "cell_type": "code",
   "execution_count": 29,
   "id": "a071fa64",
   "metadata": {},
   "outputs": [
    {
     "name": "stdout",
     "output_type": "stream",
     "text": [
      "0\n",
      "condition    0\n",
      "Name: 5545, dtype: int64\n"
     ]
    }
   ],
   "source": [
    "print(np.argmax(y_pred[0]))\n",
    "print(data[label].iloc[5545])"
   ]
  },
  {
   "cell_type": "markdown",
   "id": "ff804501",
   "metadata": {},
   "source": [
    "Predicted Condition is 0  says : NO Stress"
   ]
  },
  {
   "cell_type": "code",
   "execution_count": 30,
   "id": "3d429c50",
   "metadata": {},
   "outputs": [
    {
     "name": "stdout",
     "output_type": "stream",
     "text": [
      "[[ 0.17166695 -0.77559868 -0.74525811 -0.87458304 -0.45972564 -0.64973772\n",
      "  -0.1273582 ]]\n",
      "1/1 [==============================] - 0s 24ms/step\n",
      "2\n",
      "condition    2\n",
      "Name: 41032, dtype: int64\n"
     ]
    },
    {
     "name": "stderr",
     "output_type": "stream",
     "text": [
      "C:\\Users\\SIMRAN\\anaconda3\\lib\\site-packages\\sklearn\\base.py:420: UserWarning: X does not have valid feature names, but StandardScaler was fitted with feature names\n",
      "  warnings.warn(\n"
     ]
    }
   ],
   "source": [
    "t = scaler.transform(data[features].iloc[41032].values.reshape(1,-1))\n",
    "print(t)\n",
    "y_pred = model.predict(t)\n",
    "print(np.argmax(y_pred[0]))\n",
    "print(data[label].iloc[41032])"
   ]
  },
  {
   "cell_type": "markdown",
   "id": "3d822f8b",
   "metadata": {},
   "source": [
    "Predicted condition is 2 says: High Stress"
   ]
  }
 ],
 "metadata": {
  "kernelspec": {
   "display_name": "Python 3 (ipykernel)",
   "language": "python",
   "name": "python3"
  },
  "language_info": {
   "codemirror_mode": {
    "name": "ipython",
    "version": 3
   },
   "file_extension": ".py",
   "mimetype": "text/x-python",
   "name": "python",
   "nbconvert_exporter": "python",
   "pygments_lexer": "ipython3",
   "version": "3.10.9"
  }
 },
 "nbformat": 4,
 "nbformat_minor": 5
}
